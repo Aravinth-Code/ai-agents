{
 "cells": [
  {
   "cell_type": "code",
   "execution_count": null,
   "id": "c8646197",
   "metadata": {},
   "outputs": [
    {
     "name": "stdout",
     "output_type": "stream",
     "text": [
      "\n"
     ]
    }
   ],
   "source": [
    "import os\n",
    "from dotenv import load_dotenv\n",
    "load_dotenv()\n",
    "\n",
    "from crewai import LLM\n",
    "\n",
    "\n",
    "\n",
    "llm = LLM(\n",
    "    model = \"gemini/gemini-2.0-flash\",\n",
    "    temperature = 0.1\n",
    ")\n",
    "\n"
   ]
  },
  {
   "cell_type": "code",
   "execution_count": 39,
   "id": "704e4520",
   "metadata": {},
   "outputs": [],
   "source": [
    "from crewai import Agent, Task, Crew\n",
    "from crewai_tools import SerperDevTool\n",
    "\n",
    "research_agent = Agent(\n",
    "    role=\"Research Specialist\",\n",
    "    goal=\"Research interesting facts about the topic: {topic}\",\n",
    "    backstory=\"You are an expert at finding relevant and factual data.\",\n",
    "    tools=[SerperDevTool()],\n",
    "    verbose=True,\n",
    "    llm=llm\n",
    ")\n",
    "\n",
    "writer_agent = Agent(\n",
    "    role=\"Creative Writer\",\n",
    "    goal=\"Write a short blog summary using the research\",\n",
    "    backstory=\"You are skilled at writing engaging summaries based on provided content.\",\n",
    "    llm=llm,\n",
    "    verbose=True,\n",
    ")"
   ]
  },
  {
   "cell_type": "code",
   "execution_count": 40,
   "id": "3d9b4b90",
   "metadata": {},
   "outputs": [],
   "source": [
    "research_task = Task(\n",
    "    description=\"Find 3-5 interesting and recent facts about {topic}.\",\n",
    "    expected_output=\"A bullet list of 3-5 facts\",\n",
    "    agent=research_agent,\n",
    ")\n",
    "\n",
    "writer_task = Task(\n",
    "    description=\"Write a 100-word blog post summary about {topic} using the facts from the research.\",\n",
    "    expected_output=\"A blog post summary\",\n",
    "    agent=writer_agent,\n",
    "    context=[research_task],\n",
    ")"
   ]
  },
  {
   "cell_type": "code",
   "execution_count": null,
   "id": "868e90ca",
   "metadata": {},
   "outputs": [],
   "source": [
    "crew = Crew(\n",
    "    agents=[research_agent, writer_agent],\n",
    "    tasks=[research_task, writer_task],\n",
    "    verbose=True\n",
    ")\n",
    "\n",
    "result = crew.kickoff(inputs={\"topic\":\"The future of ML, DL, NLP\"})\n"
   ]
  },
  {
   "cell_type": "code",
   "execution_count": null,
   "id": "3df634cd",
   "metadata": {},
   "outputs": [
    {
     "name": "stdout",
     "output_type": "stream",
     "text": [
      "Current working directory: e:\\Projects\\ai-agents\\crew-ai-agent-learnings\n"
     ]
    }
   ],
   "source": [
    "from dotenv import load_dotenv\n",
    "\n",
    "load_dotenv(r\"E:\\\\Projects\\\\ai-agents\\\\crew-ai-agent-learnings\\\\.env\")\n"
   ]
  }
 ],
 "metadata": {
  "kernelspec": {
   "display_name": "Python 3",
   "language": "python",
   "name": "python3"
  },
  "language_info": {
   "codemirror_mode": {
    "name": "ipython",
    "version": 3
   },
   "file_extension": ".py",
   "mimetype": "text/x-python",
   "name": "python",
   "nbconvert_exporter": "python",
   "pygments_lexer": "ipython3",
   "version": "3.12.6"
  }
 },
 "nbformat": 4,
 "nbformat_minor": 5
}
