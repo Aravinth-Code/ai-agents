{
 "cells": [
  {
   "cell_type": "code",
   "execution_count": 5,
   "id": "8c1009f6",
   "metadata": {},
   "outputs": [],
   "source": [
    "from dotenv import load_dotenv\n",
    "load_dotenv()\n",
    "\n",
    "from crewai import LLM\n",
    "\n",
    "llm = LLM(\n",
    "    model=\"gemini/gemini-2.0-flash\",\n",
    "    temperature=0.1\n",
    ")\n"
   ]
  },
  {
   "cell_type": "code",
   "execution_count": 6,
   "id": "dfb01182",
   "metadata": {},
   "outputs": [],
   "source": [
    "from crewai import Agent, Task, Crew\n",
    "from crewai_tools import SerperDevTool\n",
    "\n",
    "research_agent = Agent(\n",
    "    role=\"Research Specialist\",\n",
    "    goal=\"Research interesting facts about the topic: {topic}\",\n",
    "    backstory=\"You are an expert at finding relevant and factual data.\",\n",
    "    tools=[SerperDevTool()],\n",
    "    verbose=True,\n",
    "    llm=llm\n",
    ")\n",
    "\n",
    "writer_agent = Agent(\n",
    "    role=\"Creative Writer\",\n",
    "    goal=\"Write a short blog summary using the research\",\n",
    "    backstory=\"You are skilled at writing engaging summaries based on provided content.\",\n",
    "    llm=llm,\n",
    "    verbose=True,\n",
    ")\n"
   ]
  },
  {
   "cell_type": "code",
   "execution_count": 7,
   "id": "a79a05bc",
   "metadata": {},
   "outputs": [],
   "source": [
    "task1 = Task(\n",
    "    description=\"Find 3-5 interesting and recent facts about {topic} as of year 2025.\",\n",
    "    expected_output=\"A bullet list of 3-5 facts\",\n",
    "    agent=research_agent,\n",
    ")\n",
    "\n",
    "task2 = Task(\n",
    "    description=\"Write a 100-word blog post summary about {topic} using the facts from the research.\",\n",
    "    expected_output=\"A blog post summary\",\n",
    "    agent=writer_agent,\n",
    "    context=[task1],\n",
    ")"
   ]
  },
  {
   "cell_type": "code",
   "execution_count": null,
   "id": "1b1b427d",
   "metadata": {},
   "outputs": [],
   "source": [
    "crew = Crew(\n",
    "    agents=[research_agent, writer_agent],\n",
    "    tasks=[task1, task2],\n",
    "    verbose=True,\n",
    ")\n",
    "\n",
    "crew.kickoff(inputs={\"topic\": \"The future of electrical vehicles\"})\n"
   ]
  },
  {
   "cell_type": "code",
   "execution_count": 9,
   "id": "2ac54f36",
   "metadata": {},
   "outputs": [
    {
     "name": "stdout",
     "output_type": "stream",
     "text": [
      "Serper Key: f12986b2d1f7ad2f341e709f17d7d3d8ae6d37cae782ffeb0fb995191adb38d5\n"
     ]
    }
   ],
   "source": [
    "from dotenv import load_dotenv\n",
    "import os\n",
    "\n",
    "load_dotenv(r\"E:\\\\Projects\\\\ai-agents\\\\crewai-agents\\\\.env\", override=True)\n",
    "print(\"Serper Key:\", os.getenv(\"SERPER_API_KEY\"))\n"
   ]
  }
 ],
 "metadata": {
  "kernelspec": {
   "display_name": "Python 3",
   "language": "python",
   "name": "python3"
  },
  "language_info": {
   "codemirror_mode": {
    "name": "ipython",
    "version": 3
   },
   "file_extension": ".py",
   "mimetype": "text/x-python",
   "name": "python",
   "nbconvert_exporter": "python",
   "pygments_lexer": "ipython3",
   "version": "3.12.6"
  }
 },
 "nbformat": 4,
 "nbformat_minor": 5
}
