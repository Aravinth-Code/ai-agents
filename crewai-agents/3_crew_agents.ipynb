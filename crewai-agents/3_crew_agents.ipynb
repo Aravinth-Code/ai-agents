{
 "cells": [
  {
   "cell_type": "code",
   "execution_count": null,
   "id": "cde8e9b0",
   "metadata": {},
   "outputs": [],
   "source": [
    "from dotenv import load_dotenv\n",
    "load_dotenv()\n",
    "\n",
    "from crewai import LLM\n",
    "\n",
    "llm = LLM(\n",
    "    model=\"gemini/gemini-2.0-flash\",\n",
    "    temperature=0.1\n",
    ")"
   ]
  },
  {
   "cell_type": "code",
   "execution_count": null,
   "id": "93a88013",
   "metadata": {},
   "outputs": [],
   "source": [
    "from crewai import Agent, Task, Crew\n",
    "\n",
    "research_agent = Agent(\n",
    "    role=\"Research Specialist\",\n",
    "    goal=\"Research interesting facts about the topic: {topic}\",\n",
    "    backstory=\"You are an expert at finding relevant and factual data.\",\n",
    "    verbose=True,\n",
    "    llm=llm\n",
    ")\n",
    "\n",
    "writer_agent = Agent(\n",
    "    role=\"Creative Writer\",\n",
    "    goal=\"Write a short blog summary using the research\",\n",
    "    backstory=\"You are skilled at writing engaging summaries based on provided content.\",\n",
    "    llm=llm,\n",
    "    verbose=True,\n",
    ")\n"
   ]
  },
  {
   "cell_type": "code",
   "execution_count": null,
   "id": "ecb0b4d8",
   "metadata": {},
   "outputs": [],
   "source": [
    "task1 = Task(\n",
    "    description=\"Find 3-5 interesting and recent facts about {topic}.\",\n",
    "    expected_output=\"A bullet list of 3-5 facts\",\n",
    "    agent=research_agent,\n",
    ")\n",
    "\n",
    "task2 = Task(\n",
    "    description=\"Write a 100-word blog post summary about {topic} using the facts from the research.\",\n",
    "    expected_output=\"A blog post summary\",\n",
    "    agent=writer_agent,\n",
    "    context=[task1],\n",
    ")\n"
   ]
  },
  {
   "cell_type": "code",
   "execution_count": null,
   "id": "8fe30e8f",
   "metadata": {},
   "outputs": [],
   "source": [
    "crew = Crew(\n",
    "    agents=[research_agent, writer_agent],\n",
    "    tasks=[task1, task2],\n",
    "    verbose=True,\n",
    ")\n",
    "\n",
    "crew.kickoff(inputs={\"topic\": \"The future of electrical vehicles\"})\n"
   ]
  }
 ],
 "metadata": {
  "language_info": {
   "name": "python"
  }
 },
 "nbformat": 4,
 "nbformat_minor": 5
}
